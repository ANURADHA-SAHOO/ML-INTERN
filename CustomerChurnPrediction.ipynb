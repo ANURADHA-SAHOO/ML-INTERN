{
 "cells": [
  {
   "cell_type": "code",
   "execution_count": 1,
   "id": "ed092e8b-d84f-4603-958f-c20bbb49f074",
   "metadata": {},
   "outputs": [
    {
     "name": "stdout",
     "output_type": "stream",
     "text": [
      "rownumber          0\n",
      "customerid         0\n",
      "surname            0\n",
      "creditscore        0\n",
      "geography          0\n",
      "gender             0\n",
      "age                0\n",
      "tenure             0\n",
      "balance            0\n",
      "numofproducts      0\n",
      "hascrcard          0\n",
      "isactivemember     0\n",
      "estimatedsalary    0\n",
      "exited             0\n",
      "dtype: int64\n",
      "Empty DataFrame\n",
      "Columns: [rownumber, customerid, surname, creditscore, geography, gender, age, tenure, balance, numofproducts, hascrcard, isactivemember, estimatedsalary, exited]\n",
      "Index: []\n",
      "Logistic Regression Train Score: 0.6815152578042792\n",
      "Logistic Regression Test Score: 0.7023712183156173\n",
      "Precision: 0.6798029556650246\n",
      "Recall: 0.7101200686106347\n",
      "Accuracy: 0.7023712183156173\n",
      "F1 Score: 0.6946308724832215\n",
      "Logistic Regression CV Train Score: 0.6948439144159944\n",
      "Logistic Regression CV Test Score: 0.695829926410466\n",
      "KNN Train Score: 0.8439144159943879\n",
      "KNN Test Score: 0.7195421095666394\n",
      "KNN Precision: 0.7061855670103093\n",
      "KNN Recall: 0.7049742710120068\n",
      "KNN Accuracy: 0.7195421095666394\n",
      "KNN F1 Score: 0.7055793991416309\n",
      "SVC Train Score: 0.9698351455629604\n",
      "SVC Test Score: 0.6966475878986099\n",
      "SVC Precision: 0.6540697674418605\n",
      "SVC Recall: 0.7718696397941681\n",
      "SVC Accuracy: 0.6966475878986099\n",
      "SVC F1 Score: 0.7081038552321007\n"
     ]
    },
    {
     "data": {
      "image/png": "[encoded data removed]",
      "text/plain": [
       "<Figure size 640x480 with 2 Axes>"
      ]
     },
     "metadata": {},
     "output_type": "display_data"
    }
   ],
   "source": [
    "import numpy as np\n",
    "import pandas as pd\n",
    "import matplotlib.pyplot as plt\n",
    "import seaborn as sns\n",
    "from sklearn.utils import resample\n",
    "from sklearn.model_selection import train_test_split\n",
    "from sklearn.linear_model import LogisticRegression, LogisticRegressionCV\n",
    "from sklearn.neighbors import KNeighborsClassifier\n",
    "from sklearn.preprocessing import StandardScaler\n",
    "from sklearn.metrics import (confusion_matrix, recall_score, precision_score, \n",
    "                             accuracy_score, f1_score, ConfusionMatrixDisplay)\n",
    "from sklearn.svm import SVC\n",
    "churn = pd.read_csv('Churn_Modelling.csv')\n",
    "churn.columns = churn.columns.str.strip().str.lower()\n",
    "print(churn.isna().sum())\n",
    "print(churn[churn.duplicated(subset=['customerid'], keep=False)])\n",
    "churn_majority = churn[churn['exited'] == 0]\n",
    "churn_minority = churn[churn['exited'] == 1]\n",
    "churn_majority_downsample = resample(churn_majority, n_samples=2037, replace=False, random_state=42)\n",
    "churn_df = pd.concat([churn_majority_downsample, churn_minority])\n",
    "churn_df.drop(['rownumber', 'customerid', 'surname', 'geography', 'gender'], axis=1, inplace=True)\n",
    "x = churn_df.drop(['exited'], axis=1)\n",
    "y = churn_df['exited']\n",
    "x_train, x_test, y_train, y_test = train_test_split(x, y, test_size=0.3, random_state=42)\n",
    "scaler = StandardScaler()\n",
    "x_train = scaler.fit_transform(x_train)\n",
    "x_test = scaler.transform(x_test)\n",
    "lr = LogisticRegression(max_iter=1000)  # Increased max_iter\n",
    "lr.fit(x_train, y_train)\n",
    "print(f\"Logistic Regression Train Score: {lr.score(x_train, y_train)}\")\n",
    "print(f\"Logistic Regression Test Score: {lr.score(x_test, y_test)}\")\n",
    "y_pred = lr.predict(x_test)\n",
    "print(f\"Precision: {precision_score(y_test, y_pred)}\")\n",
    "print(f\"Recall: {recall_score(y_test, y_pred)}\")\n",
    "print(f\"Accuracy: {accuracy_score(y_test, y_pred)}\")\n",
    "print(f\"F1 Score: {f1_score(y_test, y_pred)}\")\n",
    "\n",
    "# Confusion Matrix\n",
    "cmd = ConfusionMatrixDisplay(confusion_matrix(y_test, y_pred, labels=lr.classes_), display_labels=lr.classes_)\n",
    "cmd.plot()\n",
    "lr_cv = LogisticRegressionCV(max_iter=1000, solver='liblinear', penalty='l1', cv=3)\n",
    "lr_cv.fit(x_train, y_train)\n",
    "print(f\"Logistic Regression CV Train Score: {lr_cv.score(x_train, y_train)}\")\n",
    "print(f\"Logistic Regression CV Test Score: {lr_cv.score(x_test, y_test)}\")\n",
    "knn = KNeighborsClassifier(n_neighbors=3, metric='euclidean')\n",
    "knn.fit(x_train, y_train)\n",
    "print(f\"KNN Train Score: {knn.score(x_train, y_train)}\")\n",
    "print(f\"KNN Test Score: {knn.score(x_test, y_test)}\")\n",
    "y_pred_knn = knn.predict(x_test)\n",
    "print(f\"KNN Precision: {precision_score(y_test, y_pred_knn)}\")\n",
    "print(f\"KNN Recall: {recall_score(y_test, y_pred_knn)}\")\n",
    "print(f\"KNN Accuracy: {accuracy_score(y_test, y_pred_knn)}\")\n",
    "print(f\"KNN F1 Score: {f1_score(y_test, y_pred_knn)}\")\n",
    "svc = SVC(kernel='rbf', gamma=2, C=1)\n",
    "svc.fit(x_train, y_train)\n",
    "print(f\"SVC Train Score: {svc.score(x_train, y_train)}\")\n",
    "print(f\"SVC Test Score: {svc.score(x_test, y_test)}\")\n",
    "y_pred_svc = svc.predict(x_test)\n",
    "print(f\"SVC Precision: {precision_score(y_test, y_pred_svc)}\")\n",
    "print(f\"SVC Recall: {recall_score(y_test, y_pred_svc)}\")\n",
    "print(f\"SVC Accuracy: {accuracy_score(y_test, y_pred_svc)}\")\n",
    "print(f\"SVC F1 Score: {f1_score(y_test, y_pred_svc)}\")\n"
   ]
  },
  {
   "cell_type": "code",
   "execution_count": null,
   "id": "93a25bc0-77bf-4eb0-8921-1c048483b44a",
   "metadata": {},
   "outputs": [],
   "source": []
  }
 ],
 "metadata": {
  "kernelspec": {
   "display_name": "Python 3 (ipykernel)",
   "language": "python",
   "name": "python3"
  },
  "language_info": {
   "codemirror_mode": {
    "name": "ipython",
    "version": 3
   },
   "file_extension": ".py",
   "mimetype": "text/x-python",
   "name": "python",
   "nbconvert_exporter": "python",
   "pygments_lexer": "ipython3",
   "version": "3.12.4"
  }
 },
 "nbformat": 4,
 "nbformat_minor": 5
}
